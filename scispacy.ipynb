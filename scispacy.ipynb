{
 "cells": [
  {
   "cell_type": "code",
   "execution_count": null,
   "metadata": {},
   "outputs": [
    {
     "name": "stderr",
     "output_type": "stream",
     "text": [
      "/Users/nsndimt/opt/anaconda3/lib/python3.7/site-packages/sklearn/base.py:318: UserWarning: Trying to unpickle estimator TfidfTransformer from version 0.20.3 when using version 0.22.1. This might lead to breaking code or invalid results. Use at your own risk.\n",
      "  UserWarning)\n",
      "/Users/nsndimt/opt/anaconda3/lib/python3.7/site-packages/sklearn/base.py:318: UserWarning: Trying to unpickle estimator TfidfVectorizer from version 0.20.3 when using version 0.22.1. This might lead to breaking code or invalid results. Use at your own risk.\n",
      "  UserWarning)\n"
     ]
    }
   ],
   "source": [
    "import spacy\n",
    "import scispacy\n",
    "from scispacy.umls_linking import UmlsEntityLinker\n",
    "nlp = spacy.load(\"en_core_sci_lg\")\n",
    "linker = UmlsEntityLinker(resolve_abbreviations=True)\n",
    "nlp.add_pipe(linker)"
   ]
  },
  {
   "cell_type": "code",
   "execution_count": null,
   "metadata": {},
   "outputs": [],
   "source": [
    "doc = nlp('seeking range of information about the SARS-CoV-2 virus\\'s origin, including its evolution, animal source, and first transmission into humans')\n",
    "for w in doc:\n",
    "#     print(w.text,w.pos_,w.tag_,spacy.explain(w.tag_))\n",
    "    print(w.text,w.pos_)"
   ]
  },
  {
   "cell_type": "code",
   "execution_count": null,
   "metadata": {},
   "outputs": [],
   "source": [
    "print(doc.ents)\n",
    "for ent in doc.ents:\n",
    "    print(ent.text, ent.start_char, ent.end_char, ent.label_)"
   ]
  },
  {
   "cell_type": "code",
   "execution_count": null,
   "metadata": {},
   "outputs": [],
   "source": [
    "for ent in doc.ents:\n",
    "    for umls_ent in ent._.umls_ents:\n",
    "        cui,score=umls_ent\n",
    "        node=linker.umls.cui_to_entity[cui]\n",
    "        print(ent,node.concept_id,node.canonical_name)\n",
    "        break"
   ]
  },
  {
   "cell_type": "code",
   "execution_count": null,
   "metadata": {},
   "outputs": [],
   "source": [
    "import spacy\n",
    "import xml.etree.ElementTree as ET\n",
    "root = ET.parse('topics-rnd1.xml').getroot()\n",
    "for topic in root:\n",
    "    qid = topic.attrib['number']\n",
    "    query,question,narrative=None,None,None\n",
    "    for q in topic:\n",
    "        if q.tag == 'query':\n",
    "            query=q.text.strip()\n",
    "        elif q.tag == 'question':\n",
    "            question=q.text.strip()\n",
    "        elif q.tag == 'narrative':\n",
    "            narrative=q.text.strip()\n",
    "    print('Qid:%s\\nnarrative:%s\\n'%(qid,narrative))\n",
    "    for ent in nlp(narrative).ents:\n",
    "        for umls_ent in ent._.umls_ents:\n",
    "            cui,score=umls_ent\n",
    "            node=linker.umls.cui_to_entity[cui]\n",
    "            print(ent,node.concept_id,node.canonical_name,len(ent._.umls_ents)-1)\n",
    "            break\n",
    "    print('\\n')"
   ]
  },
  {
   "cell_type": "code",
   "execution_count": null,
   "metadata": {},
   "outputs": [],
   "source": []
  }
 ],
 "metadata": {
  "kernelspec": {
   "display_name": "Python 3",
   "language": "python",
   "name": "python3"
  },
  "language_info": {
   "codemirror_mode": {
    "name": "ipython",
    "version": 3
   },
   "file_extension": ".py",
   "mimetype": "text/x-python",
   "name": "python",
   "nbconvert_exporter": "python",
   "pygments_lexer": "ipython3",
   "version": "3.7.6"
  }
 },
 "nbformat": 4,
 "nbformat_minor": 4
}
