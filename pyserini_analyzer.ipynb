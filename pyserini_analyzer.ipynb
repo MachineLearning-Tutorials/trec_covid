{
 "cells": [
  {
   "cell_type": "code",
   "execution_count": 1,
   "metadata": {},
   "outputs": [
    {
     "data": {
      "text/plain": [
       "['citi', 'buse', 'run', 'time']"
      ]
     },
     "execution_count": 1,
     "metadata": {},
     "output_type": "execute_result"
    }
   ],
   "source": [
    "import os\n",
    "#you need to assign this env var to your anserini build result\n",
    "os.environ['ANSERINI_CLASSPATH']=\"/Users/nsndimt/anserini/target\"\n",
    "os.environ['JAVA_HOME']='/Library/Java/JavaVirtualMachines/jdk-11.0.5.jdk/Contents/Home'\n",
    "#to avoid error you need to delete the line containing calling to jsoupgenerator in pyserini/pyclass.py\n",
    "from pyserini.analysis.pyanalysis import get_lucene_analyzer, Analyzer\n",
    "analyzer = Analyzer(get_lucene_analyzer())\n",
    "analyzer.analyze('City buses are running on time.')"
   ]
  },
  {
   "cell_type": "code",
   "execution_count": 22,
   "metadata": {
    "scrolled": true
   },
   "outputs": [
    {
     "name": "stdout",
     "output_type": "stream",
     "text": [
      "Qid:1\n",
      "query:coronavirus origin\n",
      "question:what is the origin of COVID-19\n",
      "narrative:seeking range of information about the SARS-CoV-2 virus's origin, including its evolution, animal source, and first transmission into humans\n",
      "\n",
      "query:['coronaviru', 'origin']\n",
      "question:['what', 'origin', 'covid', '19']\n",
      "narrative:['seek', 'rang', 'inform', 'about', 'sar', 'cov', '2', 'viru', 'origin', 'includ', 'it', 'evolut', 'anim', 'sourc', 'first', 'transmiss', 'human']\n",
      "\n",
      "Qid:2\n",
      "query:coronavirus response to weather changes\n",
      "question:how does the coronavirus respond to changes in the weather\n",
      "narrative:seeking range of information about the SARS-CoV-2 virus viability in different weather/climate conditions as well as information related to transmission of the virus in different climate conditions\n",
      "\n",
      "query:['coronaviru', 'respons', 'weather', 'chang']\n",
      "question:['how', 'doe', 'coronaviru', 'respond', 'chang', 'weather']\n",
      "narrative:['seek', 'rang', 'inform', 'about', 'sar', 'cov', '2', 'viru', 'viabil', 'differ', 'weather', 'climat', 'condit', 'well', 'inform', 'relat', 'transmiss', 'viru', 'differ', 'climat', 'condit']\n",
      "\n",
      "Qid:3\n",
      "query:coronavirus immunity\n",
      "question:will SARS-CoV2 infected people develop immunity? Is cross protection possible?\n",
      "narrative:seeking studies of immunity developed due to infection with SARS-CoV2 or cross protection gained due to infection with other coronavirus types\n",
      "\n",
      "query:['coronaviru', 'immun']\n",
      "question:['sar', 'cov2', 'infect', 'peopl', 'develop', 'immun', 'cross', 'protect', 'possibl']\n",
      "narrative:['seek', 'studi', 'immun', 'develop', 'due', 'infect', 'sar', 'cov2', 'cross', 'protect', 'gain', 'due', 'infect', 'other', 'coronaviru', 'type']\n",
      "\n",
      "Qid:4\n",
      "query:how do people die from the coronavirus\n",
      "question:what causes death from Covid-19?\n",
      "narrative:Studies looking at mechanisms of death from Covid-19.\n",
      "\n",
      "query:['how', 'do', 'peopl', 'die', 'from', 'coronaviru']\n",
      "question:['what', 'caus', 'death', 'from', 'covid', '19']\n",
      "narrative:['studi', 'look', 'mechan', 'death', 'from', 'covid', '19']\n",
      "\n",
      "Qid:5\n",
      "query:animal models of COVID-19\n",
      "question:what drugs have been active against SARS-CoV or SARS-CoV-2 in animal studies?\n",
      "narrative:Papers that describe the results  of testing drugs that bind to spike proteins of the virus or any other drugs in any animal models. Papers about SARS-CoV-2 infection in cell culture assays are also relevant.\n",
      "\n",
      "query:['anim', 'model', 'covid', '19']\n",
      "question:['what', 'drug', 'have', 'been', 'activ', 'against', 'sar', 'cov', 'sar', 'cov', '2', 'anim', 'studi']\n",
      "narrative:['paper', 'describ', 'result', 'test', 'drug', 'bind', 'spike', 'protein', 'viru', 'ani', 'other', 'drug', 'ani', 'anim', 'model', 'paper', 'about', 'sar', 'cov', '2', 'infect', 'cell', 'cultur', 'assai', 'also', 'relev']\n",
      "\n",
      "Qid:6\n",
      "query:coronavirus test rapid testing\n",
      "question:what types of rapid testing for Covid-19 have been developed?\n",
      "narrative:Looking for studies identifying ways to diagnose Covid-19 more rapidly.\n",
      "\n",
      "query:['coronaviru', 'test', 'rapid', 'test']\n",
      "question:['what', 'type', 'rapid', 'test', 'covid', '19', 'have', 'been', 'develop']\n",
      "narrative:['look', 'studi', 'identifi', 'wai', 'diagnos', 'covid', '19', 'more', 'rapidli']\n",
      "\n",
      "Qid:7\n",
      "query:serological tests for coronavirus\n",
      "question:are there serological tests that detect antibodies to coronavirus?\n",
      "narrative:Looking for assays that measure immune response to COVID-19 that will help determine past infection and subsequent possible immunity.\n",
      "\n",
      "query:['serolog', 'test', 'coronaviru']\n",
      "question:['serolog', 'test', 'detect', 'antibodi', 'coronaviru']\n",
      "narrative:['look', 'assai', 'measur', 'immun', 'respons', 'covid', '19', 'help', 'determin', 'past', 'infect', 'subsequ', 'possibl', 'immun']\n",
      "\n",
      "Qid:8\n",
      "query:coronavirus under reporting\n",
      "question:how has lack of testing availability led to underreporting of true incidence of Covid-19?\n",
      "narrative:Looking for studies answering questions of impact of lack of complete testing for Covid-19 on incidence and prevalence of Covid-19.\n",
      "\n",
      "query:['coronaviru', 'under', 'report']\n",
      "question:['how', 'ha', 'lack', 'test', 'avail', 'led', 'underreport', 'true', 'incid', 'covid', '19']\n",
      "narrative:['look', 'studi', 'answer', 'question', 'impact', 'lack', 'complet', 'test', 'covid', '19', 'incid', 'preval', 'covid', '19']\n",
      "\n",
      "Qid:9\n",
      "query:coronavirus in Canada\n",
      "question:how has COVID-19 affected Canada\n",
      "narrative:seeking data related to infections (confirm, suspected, and projected) and health outcomes (symptoms, hospitalization, intensive care, mortality)\n",
      "\n",
      "query:['coronaviru', 'canada']\n",
      "question:['how', 'ha', 'covid', '19', 'affect', 'canada']\n",
      "narrative:['seek', 'data', 'relat', 'infect', 'confirm', 'suspect', 'project', 'health', 'outcom', 'symptom', 'hospit', 'intens', 'care', 'mortal']\n",
      "\n",
      "Qid:10\n",
      "query:coronavirus social distancing impact\n",
      "question:has social distancing had an impact on slowing the spread of COVID-19?\n",
      "narrative:seeking specific information on studies that have measured COVID-19's transmission in one or more social distancing (or non-social distancing) approaches\n",
      "\n",
      "query:['coronaviru', 'social', 'distanc', 'impact']\n",
      "question:['ha', 'social', 'distanc', 'had', 'impact', 'slow', 'spread', 'covid', '19']\n",
      "narrative:['seek', 'specif', 'inform', 'studi', 'have', 'measur', 'covid', '19', 's', 'transmiss', 'on', 'more', 'social', 'distanc', 'non', 'social', 'distanc', 'approach']\n",
      "\n",
      "Qid:11\n",
      "query:coronavirus hospital rationing\n",
      "question:what are the guidelines for triaging patients infected with coronavirus?\n",
      "narrative:Seeking information on any guidelines for prioritizing COVID-19 patients infected with coronavirus based on demographics, clinical signs, serology and other tests.\n",
      "\n",
      "query:['coronaviru', 'hospit', 'ration']\n",
      "question:['what', 'guidelin', 'triag', 'patient', 'infect', 'coronaviru']\n",
      "narrative:['seek', 'inform', 'ani', 'guidelin', 'priorit', 'covid', '19', 'patient', 'infect', 'coronaviru', 'base', 'demograph', 'clinic', 'sign', 'serolog', 'other', 'test']\n",
      "\n",
      "Qid:12\n",
      "query:coronavirus quarantine\n",
      "question:what are best practices in hospitals and at home in maintaining quarantine?\n",
      "narrative:Seeking information on best practices for activities and duration of quarantine for those exposed and/ infected to COVID-19 virus.\n",
      "\n",
      "query:['coronaviru', 'quarantin']\n",
      "question:['what', 'best', 'practic', 'hospit', 'home', 'maintain', 'quarantin']\n",
      "narrative:['seek', 'inform', 'best', 'practic', 'activ', 'durat', 'quarantin', 'those', 'expos', 'infect', 'covid', '19', 'viru']\n",
      "\n",
      "Qid:13\n",
      "query:how does coronavirus spread\n",
      "question:what are the transmission routes of coronavirus?\n",
      "narrative:Looking for information on all possible ways to contract COVID-19 from people, animals and objects\n",
      "\n",
      "query:['how', 'doe', 'coronaviru', 'spread']\n",
      "question:['what', 'transmiss', 'rout', 'coronaviru']\n",
      "narrative:['look', 'inform', 'all', 'possibl', 'wai', 'contract', 'covid', '19', 'from', 'peopl', 'anim', 'object']\n",
      "\n",
      "Qid:14\n",
      "query:coronavirus super spreaders\n",
      "question:what evidence is there related to COVID-19 super spreaders\n",
      "narrative:seeking range of information related to the number and proportion of super spreaders, their patterns of behavior that lead to spread, and potential prevention strategies targeted specifically toward super spreaders\n",
      "\n",
      "query:['coronaviru', 'super', 'spreader']\n",
      "question:['what', 'evid', 'relat', 'covid', '19', 'super', 'spreader']\n",
      "narrative:['seek', 'rang', 'inform', 'relat', 'number', 'proport', 'super', 'spreader', 'pattern', 'behavior', 'lead', 'spread', 'potenti', 'prevent', 'strategi', 'target', 'specif', 'toward', 'super', 'spreader']\n",
      "\n",
      "Qid:15\n",
      "query:coronavirus outside body\n",
      "question:how long can the coronavirus live outside the body\n",
      "narrative:seeking range of information on the SARS-CoV-2's virus's survival in different environments (surfaces, liquids, etc.) outside the human body while still being viable for transmission to another human\n",
      "\n",
      "query:['coronaviru', 'outsid', 'bodi']\n",
      "question:['how', 'long', 'can', 'coronaviru', 'live', 'outsid', 'bodi']\n",
      "narrative:['seek', 'rang', 'inform', 'sar', 'cov', '2', 's', 'viru', 'surviv', 'differ', 'environ', 'surfac', 'liquid', 'etc', 'outsid', 'human', 'bodi', 'while', 'still', 'be', 'viabl', 'transmiss', 'anoth', 'human']\n",
      "\n",
      "Qid:16\n",
      "query:how long does coronavirus survive on surfaces\n",
      "question:how long does coronavirus remain stable  on surfaces?\n",
      "narrative:Studies of time SARS-CoV-2 remains stable after being deposited from an infected person on everyday surfaces in a household or hospital setting, such as through coughing or touching objects.\n",
      "\n",
      "query:['how', 'long', 'doe', 'coronaviru', 'surviv', 'surfac']\n",
      "question:['how', 'long', 'doe', 'coronaviru', 'remain', 'stabl', 'surfac']\n",
      "narrative:['studi', 'time', 'sar', 'cov', '2', 'remain', 'stabl', 'after', 'be', 'deposit', 'from', 'infect', 'person', 'everydai', 'surfac', 'household', 'hospit', 'set', 'through', 'cough', 'touch', 'object']\n",
      "\n",
      "Qid:17\n",
      "query:coronavirus clinical trials\n",
      "question:are there any clinical trials available for the coronavirus\n",
      "narrative:seeking specific COVID-19 clinical trials ranging from trials in recruitment to completed trials with results\n",
      "\n",
      "query:['coronaviru', 'clinic', 'trial']\n",
      "question:['ani', 'clinic', 'trial', 'avail', 'coronaviru']\n",
      "narrative:['seek', 'specif', 'covid', '19', 'clinic', 'trial', 'rang', 'from', 'trial', 'recruit', 'complet', 'trial', 'result']\n",
      "\n",
      "Qid:18\n",
      "query:masks prevent coronavirus\n",
      "question:what are the best masks for preventing infection by Covid-19?\n",
      "narrative:What types of masks should or should not be used to prevent infection by Covid-19?\n",
      "\n",
      "query:['mask', 'prevent', 'coronaviru']\n",
      "question:['what', 'best', 'mask', 'prevent', 'infect', 'covid', '19']\n",
      "narrative:['what', 'type', 'mask', 'should', 'should', 'us', 'prevent', 'infect', 'covid', '19']\n",
      "\n",
      "Qid:19\n",
      "query:what alcohol sanitizer kills coronavirus\n",
      "question:what type of hand sanitizer is needed to destroy Covid-19?\n",
      "narrative:Studies assessing chemicals and their concentrations needed to destroy the Covid-19 virus.\n",
      "\n",
      "query:['what', 'alcohol', 'sanit', 'kill', 'coronaviru']\n",
      "question:['what', 'type', 'hand', 'sanit', 'need', 'destroi', 'covid', '19']\n",
      "narrative:['studi', 'assess', 'chemic', 'concentr', 'need', 'destroi', 'covid', '19', 'viru']\n",
      "\n",
      "Qid:20\n",
      "query:coronavirus and ACE inhibitors\n",
      "question:are patients taking Angiotensin-converting enzyme inhibitors (ACE) at increased risk for COVID-19?\n",
      "narrative:Looking for information on interactions between  coronavirus and  angiotensin converting enzyme 2 (ACE2) receptors, risk for patients taking these medications, and recommendations for these patients.\n",
      "\n",
      "query:['coronaviru', 'ac', 'inhibitor']\n",
      "question:['patient', 'take', 'angiotensin', 'convert', 'enzym', 'inhibitor', 'ac', 'increas', 'risk', 'covid', '19']\n",
      "narrative:['look', 'inform', 'interact', 'between', 'coronaviru', 'angiotensin', 'convert', 'enzym', '2', 'ace2', 'receptor', 'risk', 'patient', 'take', 'medic', 'recommend', 'patient']\n",
      "\n",
      "Qid:21\n",
      "query:coronavirus mortality\n",
      "question:what are the mortality rates overall and in specific populations\n",
      "narrative:Seeking  information on COVID-19 fatality rates in different countries and in different population groups based on gender, blood types, or other factors\n",
      "\n",
      "query:['coronaviru', 'mortal']\n",
      "question:['what', 'mortal', 'rate', 'overal', 'specif', 'popul']\n",
      "narrative:['seek', 'inform', 'covid', '19', 'fatal', 'rate', 'differ', 'countri', 'differ', 'popul', 'group', 'base', 'gender', 'blood', 'type', 'other', 'factor']\n",
      "\n",
      "Qid:22\n",
      "query:coronavirus heart impacts\n",
      "question:are cardiac complications likely in patients with COVID-19?\n",
      "narrative:Seeking information on the types, frequency and mechanisms of cardiac complications caused by coronavirus.\n",
      "\n",
      "query:['coronaviru', 'heart', 'impact']\n",
      "question:['cardiac', 'complic', 'like', 'patient', 'covid', '19']\n",
      "narrative:['seek', 'inform', 'type', 'frequenc', 'mechan', 'cardiac', 'complic', 'caus', 'coronaviru']\n",
      "\n",
      "Qid:23\n",
      "query:coronavirus hypertension\n",
      "question:what kinds of complications related to COVID-19 are associated with hypertension?\n",
      "narrative:seeking specific outcomes that hypertensive  (any type) patients are more/less likely to face if infected with the virus\n",
      "\n",
      "query:['coronaviru', 'hypertens']\n",
      "question:['what', 'kind', 'complic', 'relat', 'covid', '19', 'associ', 'hypertens']\n",
      "narrative:['seek', 'specif', 'outcom', 'hypertens', 'ani', 'type', 'patient', 'more', 'less', 'like', 'face', 'infect', 'viru']\n",
      "\n",
      "Qid:24\n",
      "query:coronavirus diabetes\n",
      "question:what kinds of complications related to COVID-19 are associated with diabetes\n",
      "narrative:seeking specific outcomes that diabetic (any type) patients are more/less likely to face if infected with the virus\n",
      "\n",
      "query:['coronaviru', 'diabet']\n",
      "question:['what', 'kind', 'complic', 'relat', 'covid', '19', 'associ', 'diabet']\n",
      "narrative:['seek', 'specif', 'outcom', 'diabet', 'ani', 'type', 'patient', 'more', 'less', 'like', 'face', 'infect', 'viru']\n",
      "\n",
      "Qid:25\n",
      "query:coronavirus biomarkers\n",
      "question:which biomarkers predict the severe clinical course of 2019-nCOV infection?\n",
      "narrative:Looking for information on biomarkers that predict disease outcomes in people infected with coronavirus, specifically those that predict severe and fatal outcomes.\n",
      "\n",
      "query:['coronaviru', 'biomark']\n",
      "question:['which', 'biomark', 'predict', 'sever', 'clinic', 'cours', '2019', 'ncov', 'infect']\n",
      "narrative:['look', 'inform', 'biomark', 'predict', 'diseas', 'outcom', 'peopl', 'infect', 'coronaviru', 'specif', 'those', 'predict', 'sever', 'fatal', 'outcom']\n",
      "\n",
      "Qid:26\n",
      "query:coronavirus early symptoms\n",
      "question:what are the initial symptoms of Covid-19?\n",
      "narrative:Studies of patients and the first clinical manifestations they develop upon active infection?\n",
      "\n",
      "query:['coronaviru', 'earli', 'symptom']\n",
      "question:['what', 'initi', 'symptom', 'covid', '19']\n",
      "narrative:['studi', 'patient', 'first', 'clinic', 'manifest', 'develop', 'upon', 'activ', 'infect']\n",
      "\n",
      "Qid:27\n",
      "query:coronavirus asymptomatic\n",
      "question:what is known about those infected with Covid-19 but are asymptomatic?\n",
      "narrative:Studies of people who are known to be infected with Covid-19 but show no symptoms?\n",
      "\n",
      "query:['coronaviru', 'asymptomat']\n",
      "question:['what', 'known', 'about', 'those', 'infect', 'covid', '19', 'asymptomat']\n",
      "narrative:['studi', 'peopl', 'who', 'known', 'infect', 'covid', '19', 'show', 'symptom']\n",
      "\n",
      "Qid:28\n",
      "query:coronavirus hydroxychloroquine\n",
      "question:what evidence is there for the value of hydroxychloroquine in treating Covid-19?\n",
      "narrative:Basic science or clinical studies assessing the benefit and harms of treating Covid-19 with hydroxychloroquine.\n",
      "\n",
      "query:['coronaviru', 'hydroxychloroquin']\n",
      "question:['what', 'evid', 'valu', 'hydroxychloroquin', 'treat', 'covid', '19']\n",
      "narrative:['basic', 'scienc', 'clinic', 'studi', 'assess', 'benefit', 'harm', 'treat', 'covid', '19', 'hydroxychloroquin']\n",
      "\n",
      "Qid:29\n",
      "query:coronavirus drug repurposing\n",
      "question:which SARS-CoV-2 proteins-human proteins interactions indicate potential for drug targets. Are there approved drugs that can be repurposed based on this information?\n",
      "narrative:Seeking information about protein-protein interactions for any of the SARS-CoV-2  structural proteins that represent a promising therapeutic target,  and the drug  molecules that may inhibit the virus and the host cell receptors at entry step.\n",
      "\n",
      "query:['coronaviru', 'drug', 'repurpos']\n",
      "question:['which', 'sar', 'cov', '2', 'protein', 'human', 'protein', 'interact', 'indic', 'potenti', 'drug', 'target', 'approv', 'drug', 'can', 'repurpos', 'base', 'inform']\n",
      "narrative:['seek', 'inform', 'about', 'protein', 'protein', 'interact', 'ani', 'sar', 'cov', '2', 'structur', 'protein', 'repres', 'promis', 'therapeut', 'target', 'drug', 'molecul', 'mai', 'inhibit', 'viru', 'host', 'cell', 'receptor', 'entri', 'step']\n",
      "\n",
      "Qid:30\n",
      "query:coronavirus remdesivir\n",
      "question:is remdesivir an effective treatment for COVID-19\n",
      "narrative:seeking specific information on clinical outcomes in COVID-19 patients treated with remdesivir\n",
      "\n",
      "query:['coronaviru', 'remdesivir']\n",
      "question:['remdesivir', 'effect', 'treatment', 'covid', '19']\n",
      "narrative:['seek', 'specif', 'inform', 'clinic', 'outcom', 'covid', '19', 'patient', 'treat', 'remdesivir']\n",
      "\n"
     ]
    }
   ],
   "source": [
    "import xml.etree.ElementTree as ET\n",
    "root = ET.parse('topics-rnd1.xml').getroot()\n",
    "for topic in root:\n",
    "    qid = topic.attrib['number']\n",
    "    query,question,narrative=None,None,None\n",
    "    for q in topic:\n",
    "        if q.tag == 'query':\n",
    "            query=q.text.strip()\n",
    "        elif q.tag == 'question':\n",
    "            question=q.text.strip()\n",
    "        elif q.tag == 'narrative':\n",
    "            narrative=q.text.strip()\n",
    "    print('Qid:%s\\nquery:%s\\nquestion:%s\\nnarrative:%s\\n'%(qid,query,question,narrative))\n",
    "    print('query:%s\\nquestion:%s\\nnarrative:%s\\n'%(analyzer.analyze(query),\n",
    "                                                   analyzer.analyze(question),\n",
    "                                                   analyzer.analyze(narrative)))     "
   ]
  },
  {
   "cell_type": "code",
   "execution_count": 28,
   "metadata": {},
   "outputs": [
    {
     "data": {
      "text/plain": [
       "['test', 'how', 'covid', '19', 'token']"
      ]
     },
     "execution_count": 28,
     "metadata": {},
     "output_type": "execute_result"
    }
   ],
   "source": [
    "analyzer.analyze('test how covid-19 is tokenized')"
   ]
  },
  {
   "cell_type": "code",
   "execution_count": 29,
   "metadata": {},
   "outputs": [
    {
     "data": {
      "text/plain": [
       "['test', 'how', 'covid_19', 'token']"
      ]
     },
     "execution_count": 29,
     "metadata": {},
     "output_type": "execute_result"
    }
   ],
   "source": [
    "analyzer.analyze('test how covid_19 is tokenized')"
   ]
  },
  {
   "cell_type": "code",
   "execution_count": 30,
   "metadata": {},
   "outputs": [
    {
     "data": {
      "text/plain": [
       "['test', 'how', 'sar', 'cov', '2', 'token']"
      ]
     },
     "execution_count": 30,
     "metadata": {},
     "output_type": "execute_result"
    }
   ],
   "source": [
    "analyzer.analyze('test how SARS-CoV-2 is tokenized')"
   ]
  },
  {
   "cell_type": "code",
   "execution_count": 31,
   "metadata": {},
   "outputs": [
    {
     "data": {
      "text/plain": [
       "['test', 'how', 'sars_cov_2', 'token']"
      ]
     },
     "execution_count": 31,
     "metadata": {},
     "output_type": "execute_result"
    }
   ],
   "source": [
    "analyzer.analyze('test how SARS_CoV_2 is tokenized')"
   ]
  },
  {
   "cell_type": "code",
   "execution_count": 32,
   "metadata": {},
   "outputs": [
    {
     "data": {
      "text/plain": [
       "['test', 'how', '2019', 'ncov', 'token']"
      ]
     },
     "execution_count": 32,
     "metadata": {},
     "output_type": "execute_result"
    }
   ],
   "source": [
    "analyzer.analyze('test how 2019-nCOV is tokenized')"
   ]
  },
  {
   "cell_type": "code",
   "execution_count": 33,
   "metadata": {},
   "outputs": [
    {
     "data": {
      "text/plain": [
       "['test', 'how', '2019_ncov', 'token']"
      ]
     },
     "execution_count": 33,
     "metadata": {},
     "output_type": "execute_result"
    }
   ],
   "source": [
    "analyzer.analyze('test how 2019_nCOV is tokenized')"
   ]
  }
 ],
 "metadata": {
  "kernelspec": {
   "display_name": "Python 3",
   "language": "python",
   "name": "python3"
  },
  "language_info": {
   "codemirror_mode": {
    "name": "ipython",
    "version": 3
   },
   "file_extension": ".py",
   "mimetype": "text/x-python",
   "name": "python",
   "nbconvert_exporter": "python",
   "pygments_lexer": "ipython3",
   "version": "3.7.6"
  }
 },
 "nbformat": 4,
 "nbformat_minor": 4
}
